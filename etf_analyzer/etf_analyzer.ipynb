{
 "cells": [
  {
   "cell_type": "markdown",
   "metadata": {},
   "source": [
    "# Create a Web Application for an ETF Analyzer\n",
    "\n",
    "In this Challenge assignment, you’ll build a financial database and web application by using SQL, Python, and the Voilà library to analyze the performance of a hypothetical fintech ETF.\n",
    "\n",
    "Instructions: \n",
    "\n",
    "Use this notebook to complete your analysis of a fintech ETF that consists of four stocks: GOST, GS, PYPL, and SQ. Each stock has its own table in the `etf.db` database, which the `Starter_Code` folder also contains.\n",
    "\n",
    "Analyze the daily returns of the ETF stocks both individually and as a whole. Then deploy the visualizations to a web application by using the Voilà library.\n",
    "\n",
    "The detailed instructions are divided into the following parts:\n",
    "\n",
    "* Analyze a single asset in the ETF\n",
    "\n",
    "* Optimize data access with Advanced SQL queries\n",
    "\n",
    "* Analyze the ETF portfolio\n",
    "\n",
    "* Deploy the notebook as a web application\n",
    "\n",
    "#### Analyze a Single Asset in the ETF\n",
    "\n",
    "For this part of the assignment, you’ll use SQL queries with Python, Pandas, and hvPlot to analyze the performance of a single asset from the ETF.\n",
    "\n",
    "Complete the following steps:\n",
    "\n",
    "1. Write a SQL `SELECT` statement by using an f-string that reads all the PYPL data from the database. Using the SQL `SELECT` statement, execute a query that reads the PYPL data from the database into a Pandas DataFrame.\n",
    "\n",
    "2. Use the `head` and `tail` functions to review the first five and the last five rows of the DataFrame. Make a note of the beginning and end dates that are available from this dataset. You’ll use this information to complete your analysis.\n",
    "\n",
    "3. Using hvPlot, create an interactive visualization for the PYPL daily returns. Reflect the “time” column of the DataFrame on the x-axis. Make sure that you professionally style and format your visualization to enhance its readability.\n",
    "\n",
    "4. Using hvPlot, create an interactive visualization for the PYPL cumulative returns. Reflect the “time” column of the DataFrame on the x-axis. Make sure that you professionally style and format your visualization to enhance its readability.\n",
    "\n",
    "#### Optimize Data Access with Advanced SQL Queries\n",
    "\n",
    "For this part of the assignment, you’ll continue to analyze a single asset (PYPL) from the ETF. You’ll use advanced SQL queries to optimize the efficiency of accessing data from the database.\n",
    "\n",
    "Complete the following steps:\n",
    "\n",
    "1. Access the closing prices for PYPL that are greater than 200 by completing the following steps:\n",
    "\n",
    "    - Write a SQL `SELECT` statement to select the dates where the PYPL closing price was higher than 200.0.\n",
    "\n",
    "    - Using the SQL statement, read the data from the database into a Pandas DataFrame, and then review the resulting DataFrame.\n",
    "\n",
    "    - Select the “time” and “close” columns for those dates where the closing price was higher than 200.0.\n",
    "\n",
    "2. Find the top 10 daily returns for PYPL by completing the following steps:\n",
    "\n",
    "    -  Write a SQL statement to find the top 10 PYPL daily returns. Make sure to do the following:\n",
    "\n",
    "        * Use `SELECT` to select only the “time” and “daily_returns” columns.\n",
    "\n",
    "        * Use `ORDER` to sort the results in descending order by the “daily_returns” column.\n",
    "\n",
    "        * Use `LIMIT` to limit the results to the top 10 daily return values.\n",
    "\n",
    "    - Using the SQL statement, read the data from the database into a Pandas DataFrame, and then review the resulting DataFrame.\n",
    "\n",
    "#### Analyze the ETF Portfolio\n",
    "\n",
    "For this part of the assignment, you’ll build the entire ETF portfolio and then evaluate its performance. To do so, you’ll build the ETF portfolio by using SQL joins to combine all the data for each asset.\n",
    "\n",
    "Complete the following steps:\n",
    "\n",
    "1. Write a SQL query to join each table in the portfolio into a single DataFrame. To do so, complete the following steps:\n",
    "\n",
    "    - Use a SQL inner join to join each table on the “time” column. Access the “time” column in the `GDOT` table via the `GDOT.time` syntax. Access the “time” columns from the other tables via similar syntax.\n",
    "\n",
    "    - Using the SQL query, read the data from the database into a Pandas DataFrame. Review the resulting DataFrame.\n",
    "\n",
    "2. Create a DataFrame that averages the “daily_returns” columns for all four assets. Review the resulting DataFrame.\n",
    "\n",
    "    > **Hint** Assuming that this ETF contains equally weighted returns, you can average the returns for each asset to get the average returns of the portfolio. You can then use the average returns of the portfolio to calculate the annualized returns and the cumulative returns. For the calculation to get the average daily returns for the portfolio, use the following code:\n",
    "    >\n",
    "    > ```python\n",
    "    > etf_portfolio_returns = etf_portfolio['daily_returns'].mean(axis=1)\n",
    "    > ```\n",
    "    >\n",
    "    > You can use the average daily returns of the portfolio the same way that you used the daily returns of a single asset.\n",
    "\n",
    "3. Use the average daily returns in the `etf_portfolio_returns` DataFrame to calculate the annualized returns for the portfolio. Display the annualized return value of the ETF portfolio.\n",
    "\n",
    "> **Hint**  To calculate the annualized returns, multiply the mean of the `etf_portfolio_returns` values by 252.\n",
    ">\n",
    "> To convert the decimal values to percentages, multiply the results by 100.\n",
    "\n",
    "4. Use the average daily returns in the `etf_portfolio_returns` DataFrame to calculate the cumulative returns of the ETF portfolio.\n",
    "\n",
    "5. Using hvPlot, create an interactive line plot that visualizes the cumulative return values of the ETF portfolio. Reflect the “time” column of the DataFrame on the x-axis. Make sure that you professionally style and format your visualization to enhance its readability.\n",
    "\n",
    "#### Deploy the Notebook as a Web Application\n",
    "\n",
    "For this part of the assignment, complete the following steps:\n",
    "\n",
    "1. Use the Voilà library to deploy your notebook as a web application. You can deploy the web application locally on your computer.\n",
    "\n",
    "2. Take a screen recording or screenshots to show how the web application appears when using Voilà. Include the recording or screenshots in the `README.md` file for your GitHub repository.\n"
   ]
  },
  {
   "cell_type": "markdown",
   "metadata": {},
   "source": [
    "## Review the following code which imports the required libraries, initiates your SQLite database, popluates the database with records from the `etf.db` seed file that was included in your Starter_Code folder, creates the database engine, and confirms that data tables that it now contains."
   ]
  },
  {
   "cell_type": "code",
   "execution_count": 64,
   "metadata": {},
   "outputs": [
    {
     "name": "stderr",
     "output_type": "stream",
     "text": [
      "/Users/smiyumo/opt/anaconda3/envs/dev/lib/python3.7/site-packages/ipykernel_launcher.py:14: SADeprecationWarning: The Engine.table_names() method is deprecated and will be removed in a future release.  Please refer to Inspector.get_table_names(). (deprecated since: 1.4)\n",
      "  \n"
     ]
    },
    {
     "data": {
      "text/plain": [
       "['GDOT', 'GS', 'PYPL', 'SQ']"
      ]
     },
     "execution_count": 64,
     "metadata": {},
     "output_type": "execute_result"
    }
   ],
   "source": [
    "# Importing the required libraries and dependencies\n",
    "import numpy as np\n",
    "import pandas as pd\n",
    "import hvplot.pandas\n",
    "import sqlalchemy\n",
    "\n",
    "# Create a temporary SQLite database and populate the database with content from the etf.db seed file\n",
    "database_connection_string = 'sqlite:///./Resources/db/etf.db'\n",
    "\n",
    "# Create an engine to interact with the SQLite database\n",
    "engine = sqlalchemy.create_engine(database_connection_string)\n",
    "\n",
    "# Confirm that table names contained in the SQLite database.\n",
    "engine.table_names()"
   ]
  },
  {
   "cell_type": "markdown",
   "metadata": {},
   "source": [
    "## Analyze a single asset in the FinTech ETF\n",
    "\n",
    "For this part of the assignment, you’ll use SQL queries with Python, Pandas, and hvPlot to analyze the performance of a single asset from the ETF.\n",
    "\n",
    "Complete the following steps:\n",
    "\n",
    "1. Write a SQL `SELECT` statement by using an f-string that reads all the PYPL data from the database. Using the SQL `SELECT` statement, execute a query that reads the PYPL data from the database into a Pandas DataFrame.\n",
    "\n",
    "2. Use the `head` and `tail` functions to review the first five and the last five rows of the DataFrame. Make a note of the beginning and end dates that are available from this dataset. You’ll use this information to complete your analysis.\n",
    "\n",
    "3. Using hvPlot, create an interactive visualization for the PYPL daily returns. Reflect the “time” column of the DataFrame on the x-axis. Make sure that you professionally style and format your visualization to enhance its readability.\n",
    "\n",
    "4. Using hvPlot, create an interactive visualization for the PYPL cumulative returns. Reflect the “time” column of the DataFrame on the x-axis. Make sure that you professionally style and format your visualization to enhance its readability.\n",
    "\n"
   ]
  },
  {
   "cell_type": "markdown",
   "metadata": {},
   "source": [
    "### Step 1: Write a SQL `SELECT` statement by using an f-string that reads all the PYPL data from the database. Using the SQL `SELECT` statement, execute a query that reads the PYPL data from the database into a Pandas DataFrame."
   ]
  },
  {
   "cell_type": "code",
   "execution_count": 65,
   "metadata": {},
   "outputs": [
    {
     "data": {
      "text/html": [
       "<div>\n",
       "<style scoped>\n",
       "    .dataframe tbody tr th:only-of-type {\n",
       "        vertical-align: middle;\n",
       "    }\n",
       "\n",
       "    .dataframe tbody tr th {\n",
       "        vertical-align: top;\n",
       "    }\n",
       "\n",
       "    .dataframe thead th {\n",
       "        text-align: right;\n",
       "    }\n",
       "</style>\n",
       "<table border=\"1\" class=\"dataframe\">\n",
       "  <thead>\n",
       "    <tr style=\"text-align: right;\">\n",
       "      <th></th>\n",
       "      <th>open</th>\n",
       "      <th>high</th>\n",
       "      <th>low</th>\n",
       "      <th>close</th>\n",
       "      <th>volume</th>\n",
       "      <th>daily_returns</th>\n",
       "    </tr>\n",
       "    <tr>\n",
       "      <th>time</th>\n",
       "      <th></th>\n",
       "      <th></th>\n",
       "      <th></th>\n",
       "      <th></th>\n",
       "      <th></th>\n",
       "      <th></th>\n",
       "    </tr>\n",
       "  </thead>\n",
       "  <tbody>\n",
       "  </tbody>\n",
       "</table>\n",
       "</div>"
      ],
      "text/plain": [
       "Empty DataFrame\n",
       "Columns: [open, high, low, close, volume, daily_returns]\n",
       "Index: []"
      ]
     },
     "metadata": {},
     "output_type": "display_data"
    },
    {
     "data": {
      "text/plain": [
       "('2016-12-16 00:00:00.000000', 24.41, 24.73, 23.94, 23.98, 483544, -0.02321792260692468)"
      ]
     },
     "metadata": {},
     "output_type": "display_data"
    }
   ],
   "source": [
    "# Write a SQL query to SELECT all of the data from the PYPL table\n",
    "query = \"\"\"\n",
    "    SELECT * FROM GDOT\n",
    "\"\"\"\n",
    "\n",
    "# use engine to execute the query\n",
    "query_results = pd.read_sql_query(\n",
    "    sql=query,\n",
    "    con=engine,\n",
    "    index_col='time',\n",
    "    parse_dates=['time']\n",
    ")\n",
    "\n",
    "\n",
    "# Review column names from the query results\n",
    "\n",
    "display(pypl_test[ :0])\n",
    "\n",
    "# Review the first row from the query results\n",
    "display(row)"
   ]
  },
  {
   "cell_type": "code",
   "execution_count": 66,
   "metadata": {},
   "outputs": [],
   "source": [
    "# Use the query to read the PYPL data into a Pandas DataFrame\n",
    "\n",
    "results_df = pd.DataFrame(query_results)\n"
   ]
  },
  {
   "cell_type": "markdown",
   "metadata": {},
   "source": [
    "### Step 2: Use the `head` and `tail` functions to review the first five and the last five rows of the DataFrame. Make a note of the beginning and end dates that are available from this dataset. You’ll use this information to complete your analysis."
   ]
  },
  {
   "cell_type": "code",
   "execution_count": 67,
   "metadata": {},
   "outputs": [
    {
     "data": {
      "text/html": [
       "<div>\n",
       "<style scoped>\n",
       "    .dataframe tbody tr th:only-of-type {\n",
       "        vertical-align: middle;\n",
       "    }\n",
       "\n",
       "    .dataframe tbody tr th {\n",
       "        vertical-align: top;\n",
       "    }\n",
       "\n",
       "    .dataframe thead th {\n",
       "        text-align: right;\n",
       "    }\n",
       "</style>\n",
       "<table border=\"1\" class=\"dataframe\">\n",
       "  <thead>\n",
       "    <tr style=\"text-align: right;\">\n",
       "      <th></th>\n",
       "      <th>open</th>\n",
       "      <th>high</th>\n",
       "      <th>low</th>\n",
       "      <th>close</th>\n",
       "      <th>volume</th>\n",
       "      <th>daily_returns</th>\n",
       "    </tr>\n",
       "    <tr>\n",
       "      <th>time</th>\n",
       "      <th></th>\n",
       "      <th></th>\n",
       "      <th></th>\n",
       "      <th></th>\n",
       "      <th></th>\n",
       "      <th></th>\n",
       "    </tr>\n",
       "  </thead>\n",
       "  <tbody>\n",
       "    <tr>\n",
       "      <th>2016-12-16</th>\n",
       "      <td>24.41</td>\n",
       "      <td>24.73</td>\n",
       "      <td>23.94</td>\n",
       "      <td>23.980</td>\n",
       "      <td>483544</td>\n",
       "      <td>-0.023218</td>\n",
       "    </tr>\n",
       "    <tr>\n",
       "      <th>2016-12-19</th>\n",
       "      <td>24.00</td>\n",
       "      <td>24.01</td>\n",
       "      <td>23.55</td>\n",
       "      <td>23.790</td>\n",
       "      <td>288149</td>\n",
       "      <td>-0.007923</td>\n",
       "    </tr>\n",
       "    <tr>\n",
       "      <th>2016-12-20</th>\n",
       "      <td>23.75</td>\n",
       "      <td>23.94</td>\n",
       "      <td>23.58</td>\n",
       "      <td>23.820</td>\n",
       "      <td>220341</td>\n",
       "      <td>0.001261</td>\n",
       "    </tr>\n",
       "    <tr>\n",
       "      <th>2016-12-21</th>\n",
       "      <td>23.90</td>\n",
       "      <td>23.97</td>\n",
       "      <td>23.69</td>\n",
       "      <td>23.860</td>\n",
       "      <td>249189</td>\n",
       "      <td>0.001679</td>\n",
       "    </tr>\n",
       "    <tr>\n",
       "      <th>2016-12-22</th>\n",
       "      <td>23.90</td>\n",
       "      <td>24.01</td>\n",
       "      <td>23.70</td>\n",
       "      <td>24.005</td>\n",
       "      <td>383139</td>\n",
       "      <td>0.006077</td>\n",
       "    </tr>\n",
       "  </tbody>\n",
       "</table>\n",
       "</div>"
      ],
      "text/plain": [
       "             open   high    low   close  volume  daily_returns\n",
       "time                                                          \n",
       "2016-12-16  24.41  24.73  23.94  23.980  483544      -0.023218\n",
       "2016-12-19  24.00  24.01  23.55  23.790  288149      -0.007923\n",
       "2016-12-20  23.75  23.94  23.58  23.820  220341       0.001261\n",
       "2016-12-21  23.90  23.97  23.69  23.860  249189       0.001679\n",
       "2016-12-22  23.90  24.01  23.70  24.005  383139       0.006077"
      ]
     },
     "metadata": {},
     "output_type": "display_data"
    }
   ],
   "source": [
    "# View the first 5 rows of the DataFrame.\n",
    "display(results_df.head())\n"
   ]
  },
  {
   "cell_type": "code",
   "execution_count": 68,
   "metadata": {},
   "outputs": [
    {
     "data": {
      "text/html": [
       "<div>\n",
       "<style scoped>\n",
       "    .dataframe tbody tr th:only-of-type {\n",
       "        vertical-align: middle;\n",
       "    }\n",
       "\n",
       "    .dataframe tbody tr th {\n",
       "        vertical-align: top;\n",
       "    }\n",
       "\n",
       "    .dataframe thead th {\n",
       "        text-align: right;\n",
       "    }\n",
       "</style>\n",
       "<table border=\"1\" class=\"dataframe\">\n",
       "  <thead>\n",
       "    <tr style=\"text-align: right;\">\n",
       "      <th></th>\n",
       "      <th>open</th>\n",
       "      <th>high</th>\n",
       "      <th>low</th>\n",
       "      <th>close</th>\n",
       "      <th>volume</th>\n",
       "      <th>daily_returns</th>\n",
       "    </tr>\n",
       "    <tr>\n",
       "      <th>time</th>\n",
       "      <th></th>\n",
       "      <th></th>\n",
       "      <th></th>\n",
       "      <th></th>\n",
       "      <th></th>\n",
       "      <th></th>\n",
       "    </tr>\n",
       "  </thead>\n",
       "  <tbody>\n",
       "    <tr>\n",
       "      <th>2020-11-30</th>\n",
       "      <td>55.87</td>\n",
       "      <td>56.0899</td>\n",
       "      <td>53.1100</td>\n",
       "      <td>53.55</td>\n",
       "      <td>361004</td>\n",
       "      <td>-0.043750</td>\n",
       "    </tr>\n",
       "    <tr>\n",
       "      <th>2020-12-01</th>\n",
       "      <td>54.00</td>\n",
       "      <td>54.2500</td>\n",
       "      <td>52.0007</td>\n",
       "      <td>53.79</td>\n",
       "      <td>546792</td>\n",
       "      <td>0.004482</td>\n",
       "    </tr>\n",
       "    <tr>\n",
       "      <th>2020-12-02</th>\n",
       "      <td>53.20</td>\n",
       "      <td>53.7900</td>\n",
       "      <td>50.9400</td>\n",
       "      <td>52.32</td>\n",
       "      <td>479868</td>\n",
       "      <td>-0.027328</td>\n",
       "    </tr>\n",
       "    <tr>\n",
       "      <th>2020-12-03</th>\n",
       "      <td>52.48</td>\n",
       "      <td>54.1600</td>\n",
       "      <td>52.0200</td>\n",
       "      <td>53.76</td>\n",
       "      <td>474175</td>\n",
       "      <td>0.027523</td>\n",
       "    </tr>\n",
       "    <tr>\n",
       "      <th>2020-12-04</th>\n",
       "      <td>53.87</td>\n",
       "      <td>54.1900</td>\n",
       "      <td>53.0850</td>\n",
       "      <td>53.86</td>\n",
       "      <td>83596</td>\n",
       "      <td>0.001860</td>\n",
       "    </tr>\n",
       "  </tbody>\n",
       "</table>\n",
       "</div>"
      ],
      "text/plain": [
       "             open     high      low  close  volume  daily_returns\n",
       "time                                                             \n",
       "2020-11-30  55.87  56.0899  53.1100  53.55  361004      -0.043750\n",
       "2020-12-01  54.00  54.2500  52.0007  53.79  546792       0.004482\n",
       "2020-12-02  53.20  53.7900  50.9400  52.32  479868      -0.027328\n",
       "2020-12-03  52.48  54.1600  52.0200  53.76  474175       0.027523\n",
       "2020-12-04  53.87  54.1900  53.0850  53.86   83596       0.001860"
      ]
     },
     "metadata": {},
     "output_type": "display_data"
    }
   ],
   "source": [
    "# View the last 5 rows of the DataFrame.\n",
    "display(results_df.tail())\n"
   ]
  },
  {
   "cell_type": "markdown",
   "metadata": {},
   "source": [
    "### Step 3: Using hvPlot, create an interactive visualization for the PYPL daily returns. Reflect the “time” column of the DataFrame on the x-axis. Make sure that you professionally style and format your visualization to enhance its readability."
   ]
  },
  {
   "cell_type": "code",
   "execution_count": 69,
   "metadata": {},
   "outputs": [
    {
     "data": {},
     "metadata": {},
     "output_type": "display_data"
    },
    {
     "data": {
      "application/vnd.holoviews_exec.v0+json": "",
      "text/html": [
       "<div id='1620'>\n",
       "\n",
       "\n",
       "\n",
       "\n",
       "\n",
       "  <div class=\"bk-root\" id=\"f62c8570-6bc9-4f39-828a-67202dd417da\" data-root-id=\"1620\"></div>\n",
       "</div>\n",
       "<script type=\"application/javascript\">(function(root) {\n",
       "  function embed_document(root) {\n",
       "    var docs_json = {\"833ffbfb-3187-4ed7-a5ab-1970a865fd8c\":{\"defs\":[{\"extends\":null,\"module\":null,\"name\":\"ReactiveHTML1\",\"overrides\":[],\"properties\":[]},{\"extends\":null,\"module\":null,\"name\":\"FlexBox1\",\"overrides\":[],\"properties\":[{\"default\":\"flex-start\",\"kind\":null,\"name\":\"align_content\"},{\"default\":\"flex-start\",\"kind\":null,\"name\":\"align_items\"},{\"default\":\"row\",\"kind\":null,\"name\":\"flex_direction\"},{\"default\":\"wrap\",\"kind\":null,\"name\":\"flex_wrap\"},{\"default\":\"flex-start\",\"kind\":null,\"name\":\"justify_content\"}]},{\"extends\":null,\"module\":null,\"name\":\"TemplateActions1\",\"overrides\":[],\"properties\":[{\"default\":0,\"kind\":null,\"name\":\"open_modal\"},{\"default\":0,\"kind\":null,\"name\":\"close_modal\"}]},{\"extends\":null,\"module\":null,\"name\":\"MaterialTemplateActions1\",\"overrides\":[],\"properties\":[{\"default\":0,\"kind\":null,\"name\":\"open_modal\"},{\"default\":0,\"kind\":null,\"name\":\"close_modal\"}]}],\"roots\":{\"references\":[{\"attributes\":{},\"id\":\"1639\",\"type\":\"BasicTicker\"},{\"attributes\":{\"axis_label\":\"Time\",\"coordinates\":null,\"formatter\":{\"id\":\"1665\"},\"group\":null,\"major_label_policy\":{\"id\":\"1666\"},\"ticker\":{\"id\":\"1635\"}},\"id\":\"1634\",\"type\":\"DatetimeAxis\"},{\"attributes\":{\"bottom_units\":\"screen\",\"coordinates\":null,\"fill_alpha\":0.5,\"fill_color\":\"lightgrey\",\"group\":null,\"left_units\":\"screen\",\"level\":\"overlay\",\"line_alpha\":1.0,\"line_color\":\"black\",\"line_dash\":[4,4],\"line_width\":2,\"right_units\":\"screen\",\"syncable\":false,\"top_units\":\"screen\"},\"id\":\"1647\",\"type\":\"BoxAnnotation\"},{\"attributes\":{},\"id\":\"1630\",\"type\":\"LinearScale\"},{\"attributes\":{\"num_minor_ticks\":5,\"tickers\":[{\"id\":\"1680\"},{\"id\":\"1681\"},{\"id\":\"1682\"},{\"id\":\"1683\"},{\"id\":\"1684\"},{\"id\":\"1685\"},{\"id\":\"1686\"},{\"id\":\"1687\"},{\"id\":\"1688\"},{\"id\":\"1689\"},{\"id\":\"1690\"},{\"id\":\"1691\"}]},\"id\":\"1635\",\"type\":\"DatetimeTicker\"},{\"attributes\":{\"base\":24,\"mantissas\":[1,2,4,6,8,12],\"max_interval\":43200000.0,\"min_interval\":3600000.0,\"num_minor_ticks\":0},\"id\":\"1682\",\"type\":\"AdaptiveTicker\"},{\"attributes\":{\"end\":1607040000000.0,\"reset_end\":1607040000000.0,\"reset_start\":1481846400000.0,\"start\":1481846400000.0,\"tags\":[[[\"time\",\"time\",null]]]},\"id\":\"1622\",\"type\":\"Range1d\"},{\"attributes\":{\"line_color\":\"#30a2da\",\"line_width\":2,\"x\":{\"field\":\"time\"},\"y\":{\"field\":\"daily_returns\"}},\"id\":\"1663\",\"type\":\"Line\"},{\"attributes\":{\"axis\":{\"id\":\"1634\"},\"coordinates\":null,\"grid_line_color\":null,\"group\":null,\"ticker\":null},\"id\":\"1637\",\"type\":\"Grid\"},{\"attributes\":{\"margin\":[5,5,5,5],\"name\":\"HSpacer02177\",\"sizing_mode\":\"stretch_width\"},\"id\":\"1714\",\"type\":\"Spacer\"},{\"attributes\":{\"axis\":{\"id\":\"1638\"},\"coordinates\":null,\"dimension\":1,\"grid_line_color\":null,\"group\":null,\"ticker\":null},\"id\":\"1641\",\"type\":\"Grid\"},{\"attributes\":{\"base\":60,\"mantissas\":[1,2,5,10,15,20,30],\"max_interval\":1800000.0,\"min_interval\":1000.0,\"num_minor_ticks\":0},\"id\":\"1681\",\"type\":\"AdaptiveTicker\"},{\"attributes\":{\"below\":[{\"id\":\"1634\"}],\"center\":[{\"id\":\"1637\"},{\"id\":\"1641\"}],\"height\":300,\"left\":[{\"id\":\"1638\"}],\"margin\":[5,5,5,5],\"min_border_bottom\":10,\"min_border_left\":10,\"min_border_right\":10,\"min_border_top\":10,\"renderers\":[{\"id\":\"1661\"}],\"sizing_mode\":\"fixed\",\"title\":{\"id\":\"1626\"},\"toolbar\":{\"id\":\"1648\"},\"width\":700,\"x_range\":{\"id\":\"1622\"},\"x_scale\":{\"id\":\"1630\"},\"y_range\":{\"id\":\"1623\"},\"y_scale\":{\"id\":\"1632\"}},\"id\":\"1625\",\"subtype\":\"Figure\",\"type\":\"Plot\"},{\"attributes\":{\"axis_label\":\"Daily Returns\",\"coordinates\":null,\"formatter\":{\"id\":\"1668\"},\"group\":null,\"major_label_policy\":{\"id\":\"1669\"},\"ticker\":{\"id\":\"1639\"}},\"id\":\"1638\",\"type\":\"LinearAxis\"},{\"attributes\":{},\"id\":\"1665\",\"type\":\"DatetimeTickFormatter\"},{\"attributes\":{\"days\":[1,2,3,4,5,6,7,8,9,10,11,12,13,14,15,16,17,18,19,20,21,22,23,24,25,26,27,28,29,30,31]},\"id\":\"1683\",\"type\":\"DaysTicker\"},{\"attributes\":{\"data\":{\"daily_returns\":{\"__ndarray__\":\"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\",\"dtype\":\"float64\",\"order\":\"little\",\"shape\":[999]},\"time\":{\"__ndarray__\":\"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\",\"dtype\":\"float64\",\"order\":\"little\",\"shape\":[999]}},\"selected\":{\"id\":\"1656\"},\"selection_policy\":{\"id\":\"1677\"}},\"id\":\"1655\",\"type\":\"ColumnDataSource\"},{\"attributes\":{\"days\":[1,4,7,10,13,16,19,22,25,28]},\"id\":\"1684\",\"type\":\"DaysTicker\"},{\"attributes\":{\"days\":[1,8,15,22]},\"id\":\"1685\",\"type\":\"DaysTicker\"},{\"attributes\":{\"line_alpha\":0.2,\"line_color\":\"#30a2da\",\"line_width\":2,\"x\":{\"field\":\"time\"},\"y\":{\"field\":\"daily_returns\"}},\"id\":\"1660\",\"type\":\"Line\"},{\"attributes\":{\"coordinates\":null,\"data_source\":{\"id\":\"1655\"},\"glyph\":{\"id\":\"1658\"},\"group\":null,\"hover_glyph\":null,\"muted_glyph\":{\"id\":\"1660\"},\"nonselection_glyph\":{\"id\":\"1659\"},\"selection_glyph\":{\"id\":\"1663\"},\"view\":{\"id\":\"1662\"}},\"id\":\"1661\",\"type\":\"GlyphRenderer\"},{\"attributes\":{\"days\":[1,15]},\"id\":\"1686\",\"type\":\"DaysTicker\"},{\"attributes\":{\"line_color\":\"#30a2da\",\"line_width\":2,\"x\":{\"field\":\"time\"},\"y\":{\"field\":\"daily_returns\"}},\"id\":\"1658\",\"type\":\"Line\"},{\"attributes\":{\"coordinates\":null,\"group\":null,\"text\":\"PYPL Daily Returns\",\"text_color\":\"black\",\"text_font_size\":\"12pt\"},\"id\":\"1626\",\"type\":\"Title\"},{\"attributes\":{\"source\":{\"id\":\"1655\"}},\"id\":\"1662\",\"type\":\"CDSView\"},{\"attributes\":{\"months\":[0,1,2,3,4,5,6,7,8,9,10,11]},\"id\":\"1687\",\"type\":\"MonthsTicker\"},{\"attributes\":{},\"id\":\"1642\",\"type\":\"SaveTool\"},{\"attributes\":{},\"id\":\"1668\",\"type\":\"BasicTickFormatter\"},{\"attributes\":{},\"id\":\"1656\",\"type\":\"Selection\"},{\"attributes\":{\"margin\":[5,5,5,5],\"name\":\"HSpacer02176\",\"sizing_mode\":\"stretch_width\"},\"id\":\"1621\",\"type\":\"Spacer\"},{\"attributes\":{},\"id\":\"1666\",\"type\":\"AllLabels\"},{\"attributes\":{\"mantissas\":[1,2,5],\"max_interval\":500.0,\"num_minor_ticks\":0},\"id\":\"1680\",\"type\":\"AdaptiveTicker\"},{\"attributes\":{\"months\":[0,2,4,6,8,10]},\"id\":\"1688\",\"type\":\"MonthsTicker\"},{\"attributes\":{},\"id\":\"1643\",\"type\":\"PanTool\"},{\"attributes\":{},\"id\":\"1669\",\"type\":\"AllLabels\"},{\"attributes\":{\"months\":[0,4,8]},\"id\":\"1689\",\"type\":\"MonthsTicker\"},{\"attributes\":{},\"id\":\"1644\",\"type\":\"WheelZoomTool\"},{\"attributes\":{\"end\":0.40293006443501495,\"reset_end\":0.40293006443501495,\"reset_start\":-0.49446550369322645,\"start\":-0.49446550369322645,\"tags\":[[[\"daily_returns\",\"daily_returns\",null]]]},\"id\":\"1623\",\"type\":\"Range1d\"},{\"attributes\":{\"children\":[{\"id\":\"1621\"},{\"id\":\"1625\"},{\"id\":\"1714\"}],\"margin\":[0,0,0,0],\"name\":\"Row02172\",\"tags\":[\"embedded\"]},\"id\":\"1620\",\"type\":\"Row\"},{\"attributes\":{},\"id\":\"1677\",\"type\":\"UnionRenderers\"},{\"attributes\":{\"months\":[0,6]},\"id\":\"1690\",\"type\":\"MonthsTicker\"},{\"attributes\":{\"overlay\":{\"id\":\"1647\"}},\"id\":\"1645\",\"type\":\"BoxZoomTool\"},{\"attributes\":{},\"id\":\"1632\",\"type\":\"LinearScale\"},{\"attributes\":{},\"id\":\"1691\",\"type\":\"YearsTicker\"},{\"attributes\":{\"line_alpha\":0.1,\"line_color\":\"#30a2da\",\"line_width\":2,\"x\":{\"field\":\"time\"},\"y\":{\"field\":\"daily_returns\"}},\"id\":\"1659\",\"type\":\"Line\"},{\"attributes\":{\"callback\":null,\"formatters\":{\"@{time}\":\"datetime\"},\"renderers\":[{\"id\":\"1661\"}],\"tags\":[\"hv_created\"],\"tooltips\":[[\"time\",\"@{time}{%F %T}\"],[\"daily_returns\",\"@{daily_returns}\"]]},\"id\":\"1624\",\"type\":\"HoverTool\"},{\"attributes\":{},\"id\":\"1646\",\"type\":\"ResetTool\"},{\"attributes\":{\"tools\":[{\"id\":\"1624\"},{\"id\":\"1642\"},{\"id\":\"1643\"},{\"id\":\"1644\"},{\"id\":\"1645\"},{\"id\":\"1646\"}]},\"id\":\"1648\",\"type\":\"Toolbar\"}],\"root_ids\":[\"1620\"]},\"title\":\"Bokeh Application\",\"version\":\"2.4.1\"}};\n",
       "    var render_items = [{\"docid\":\"833ffbfb-3187-4ed7-a5ab-1970a865fd8c\",\"root_ids\":[\"1620\"],\"roots\":{\"1620\":\"f62c8570-6bc9-4f39-828a-67202dd417da\"}}];\n",
       "    root.Bokeh.embed.embed_items_notebook(docs_json, render_items);\n",
       "  }\n",
       "  if (root.Bokeh !== undefined && root.Bokeh.Panel !== undefined) {\n",
       "    embed_document(root);\n",
       "  } else {\n",
       "    var attempts = 0;\n",
       "    var timer = setInterval(function(root) {\n",
       "      if (root.Bokeh !== undefined && root.Bokeh.Panel !== undefined) {\n",
       "        clearInterval(timer);\n",
       "        embed_document(root);\n",
       "      } else if (document.readyState == \"complete\") {\n",
       "        attempts++;\n",
       "        if (attempts > 200) {\n",
       "          clearInterval(timer);\n",
       "          console.log(\"Bokeh: ERROR: Unable to run BokehJS code because BokehJS library is missing\");\n",
       "        }\n",
       "      }\n",
       "    }, 25, root)\n",
       "  }\n",
       "})(window);</script>"
      ],
      "text/plain": [
       ":Curve   [time]   (daily_returns)"
      ]
     },
     "execution_count": 69,
     "metadata": {
      "application/vnd.holoviews_exec.v0+json": {
       "id": "1620"
      }
     },
     "output_type": "execute_result"
    }
   ],
   "source": [
    "# Create an interactive visualization with hvplot to plot the daily returns for PYPL.\n",
    "results_df.hvplot(\n",
    "    x=\"time\", \n",
    "    y=\"daily_returns\",\n",
    "    xlabel='Time',\n",
    "    ylabel='Daily Returns',\n",
    "    title='PYPL Daily Returns'\n",
    "    )\n"
   ]
  },
  {
   "cell_type": "markdown",
   "metadata": {},
   "source": [
    "### Step 4: Using hvPlot, create an interactive visualization for the PYPL cumulative returns. Reflect the “time” column of the DataFrame on the x-axis. Make sure that you professionally style and format your visualization to enhance its readability."
   ]
  },
  {
   "cell_type": "code",
   "execution_count": 70,
   "metadata": {},
   "outputs": [
    {
     "data": {},
     "metadata": {},
     "output_type": "display_data"
    },
    {
     "data": {
      "application/vnd.holoviews_exec.v0+json": "",
      "text/html": [
       "<div id='1826'>\n",
       "\n",
       "\n",
       "\n",
       "\n",
       "\n",
       "  <div class=\"bk-root\" id=\"12335aaf-1315-4dc6-a98b-1c08e6b488fd\" data-root-id=\"1826\"></div>\n",
       "</div>\n",
       "<script type=\"application/javascript\">(function(root) {\n",
       "  function embed_document(root) {\n",
       "    var docs_json = {\"c5d78347-c8c5-4a83-8408-2d676f6a034e\":{\"defs\":[{\"extends\":null,\"module\":null,\"name\":\"ReactiveHTML1\",\"overrides\":[],\"properties\":[]},{\"extends\":null,\"module\":null,\"name\":\"FlexBox1\",\"overrides\":[],\"properties\":[{\"default\":\"flex-start\",\"kind\":null,\"name\":\"align_content\"},{\"default\":\"flex-start\",\"kind\":null,\"name\":\"align_items\"},{\"default\":\"row\",\"kind\":null,\"name\":\"flex_direction\"},{\"default\":\"wrap\",\"kind\":null,\"name\":\"flex_wrap\"},{\"default\":\"flex-start\",\"kind\":null,\"name\":\"justify_content\"}]},{\"extends\":null,\"module\":null,\"name\":\"TemplateActions1\",\"overrides\":[],\"properties\":[{\"default\":0,\"kind\":null,\"name\":\"open_modal\"},{\"default\":0,\"kind\":null,\"name\":\"close_modal\"}]},{\"extends\":null,\"module\":null,\"name\":\"MaterialTemplateActions1\",\"overrides\":[],\"properties\":[{\"default\":0,\"kind\":null,\"name\":\"open_modal\"},{\"default\":0,\"kind\":null,\"name\":\"close_modal\"}]}],\"roots\":{\"references\":[{\"attributes\":{\"callback\":null,\"formatters\":{\"@{time}\":\"datetime\"},\"renderers\":[{\"id\":\"1867\"}],\"tags\":[\"hv_created\"],\"tooltips\":[[\"time\",\"@{time}{%F %T}\"],[\"daily_returns\",\"@{daily_returns}\"]]},\"id\":\"1830\",\"type\":\"HoverTool\"},{\"attributes\":{},\"id\":\"1852\",\"type\":\"ResetTool\"},{\"attributes\":{},\"id\":\"1875\",\"type\":\"AllLabels\"},{\"attributes\":{\"tools\":[{\"id\":\"1830\"},{\"id\":\"1848\"},{\"id\":\"1849\"},{\"id\":\"1850\"},{\"id\":\"1851\"},{\"id\":\"1852\"}]},\"id\":\"1854\",\"type\":\"Toolbar\"},{\"attributes\":{},\"id\":\"1845\",\"type\":\"BasicTicker\"},{\"attributes\":{\"axis_label\":\"Time\",\"coordinates\":null,\"formatter\":{\"id\":\"1871\"},\"group\":null,\"major_label_policy\":{\"id\":\"1872\"},\"ticker\":{\"id\":\"1841\"}},\"id\":\"1840\",\"type\":\"DatetimeAxis\"},{\"attributes\":{\"end\":1607040000000.0,\"reset_end\":1607040000000.0,\"reset_start\":1481846400000.0,\"start\":1481846400000.0,\"tags\":[[[\"time\",\"time\",null]]]},\"id\":\"1828\",\"type\":\"Range1d\"},{\"attributes\":{},\"id\":\"1836\",\"type\":\"LinearScale\"},{\"attributes\":{\"margin\":[5,5,5,5],\"name\":\"HSpacer02359\",\"sizing_mode\":\"stretch_width\"},\"id\":\"1920\",\"type\":\"Spacer\"},{\"attributes\":{\"bottom_units\":\"screen\",\"coordinates\":null,\"fill_alpha\":0.5,\"fill_color\":\"lightgrey\",\"group\":null,\"left_units\":\"screen\",\"level\":\"overlay\",\"line_alpha\":1.0,\"line_color\":\"black\",\"line_dash\":[4,4],\"line_width\":2,\"right_units\":\"screen\",\"syncable\":false,\"top_units\":\"screen\"},\"id\":\"1853\",\"type\":\"BoxAnnotation\"},{\"attributes\":{\"mantissas\":[1,2,5],\"max_interval\":500.0,\"num_minor_ticks\":0},\"id\":\"1886\",\"type\":\"AdaptiveTicker\"},{\"attributes\":{\"num_minor_ticks\":5,\"tickers\":[{\"id\":\"1886\"},{\"id\":\"1887\"},{\"id\":\"1888\"},{\"id\":\"1889\"},{\"id\":\"1890\"},{\"id\":\"1891\"},{\"id\":\"1892\"},{\"id\":\"1893\"},{\"id\":\"1894\"},{\"id\":\"1895\"},{\"id\":\"1896\"},{\"id\":\"1897\"}]},\"id\":\"1841\",\"type\":\"DatetimeTicker\"},{\"attributes\":{\"data\":{\"daily_returns\":{\"__ndarray__\":\"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\",\"dtype\":\"float64\",\"order\":\"little\",\"shape\":[999]},\"time\":{\"__ndarray__\":\"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\",\"dtype\":\"float64\",\"order\":\"little\",\"shape\":[999]}},\"selected\":{\"id\":\"1862\"},\"selection_policy\":{\"id\":\"1883\"}},\"id\":\"1861\",\"type\":\"ColumnDataSource\"},{\"attributes\":{\"line_color\":\"#30a2da\",\"line_width\":2,\"x\":{\"field\":\"time\"},\"y\":{\"field\":\"daily_returns\"}},\"id\":\"1869\",\"type\":\"Line\"},{\"attributes\":{},\"id\":\"1872\",\"type\":\"AllLabels\"},{\"attributes\":{\"axis\":{\"id\":\"1840\"},\"coordinates\":null,\"grid_line_color\":null,\"group\":null,\"ticker\":null},\"id\":\"1843\",\"type\":\"Grid\"},{\"attributes\":{\"axis\":{\"id\":\"1844\"},\"coordinates\":null,\"dimension\":1,\"grid_line_color\":null,\"group\":null,\"ticker\":null},\"id\":\"1847\",\"type\":\"Grid\"},{\"attributes\":{\"base\":24,\"mantissas\":[1,2,4,6,8,12],\"max_interval\":43200000.0,\"min_interval\":3600000.0,\"num_minor_ticks\":0},\"id\":\"1888\",\"type\":\"AdaptiveTicker\"},{\"attributes\":{\"days\":[1,2,3,4,5,6,7,8,9,10,11,12,13,14,15,16,17,18,19,20,21,22,23,24,25,26,27,28,29,30,31]},\"id\":\"1889\",\"type\":\"DaysTicker\"},{\"attributes\":{\"below\":[{\"id\":\"1840\"}],\"center\":[{\"id\":\"1843\"},{\"id\":\"1847\"}],\"height\":300,\"left\":[{\"id\":\"1844\"}],\"margin\":[5,5,5,5],\"min_border_bottom\":10,\"min_border_left\":10,\"min_border_right\":10,\"min_border_top\":10,\"renderers\":[{\"id\":\"1867\"}],\"sizing_mode\":\"fixed\",\"title\":{\"id\":\"1832\"},\"toolbar\":{\"id\":\"1854\"},\"width\":700,\"x_range\":{\"id\":\"1828\"},\"x_scale\":{\"id\":\"1836\"},\"y_range\":{\"id\":\"1829\"},\"y_scale\":{\"id\":\"1838\"}},\"id\":\"1831\",\"subtype\":\"Figure\",\"type\":\"Plot\"},{\"attributes\":{\"axis_label\":\"Cumulative Daily Returns\",\"coordinates\":null,\"formatter\":{\"id\":\"1874\"},\"group\":null,\"major_label_policy\":{\"id\":\"1875\"},\"ticker\":{\"id\":\"1845\"}},\"id\":\"1844\",\"type\":\"LinearAxis\"},{\"attributes\":{},\"id\":\"1871\",\"type\":\"DatetimeTickFormatter\"},{\"attributes\":{\"base\":60,\"mantissas\":[1,2,5,10,15,20,30],\"max_interval\":1800000.0,\"min_interval\":1000.0,\"num_minor_ticks\":0},\"id\":\"1887\",\"type\":\"AdaptiveTicker\"},{\"attributes\":{\"days\":[1,4,7,10,13,16,19,22,25,28]},\"id\":\"1890\",\"type\":\"DaysTicker\"},{\"attributes\":{\"days\":[1,8,15,22]},\"id\":\"1891\",\"type\":\"DaysTicker\"},{\"attributes\":{\"line_alpha\":0.2,\"line_color\":\"#30a2da\",\"line_width\":2,\"x\":{\"field\":\"time\"},\"y\":{\"field\":\"daily_returns\"}},\"id\":\"1866\",\"type\":\"Line\"},{\"attributes\":{\"days\":[1,15]},\"id\":\"1892\",\"type\":\"DaysTicker\"},{\"attributes\":{\"coordinates\":null,\"data_source\":{\"id\":\"1861\"},\"glyph\":{\"id\":\"1864\"},\"group\":null,\"hover_glyph\":null,\"muted_glyph\":{\"id\":\"1866\"},\"nonselection_glyph\":{\"id\":\"1865\"},\"selection_glyph\":{\"id\":\"1869\"},\"view\":{\"id\":\"1868\"}},\"id\":\"1867\",\"type\":\"GlyphRenderer\"},{\"attributes\":{\"line_color\":\"#30a2da\",\"line_width\":2,\"x\":{\"field\":\"time\"},\"y\":{\"field\":\"daily_returns\"}},\"id\":\"1864\",\"type\":\"Line\"},{\"attributes\":{\"months\":[0,1,2,3,4,5,6,7,8,9,10,11]},\"id\":\"1893\",\"type\":\"MonthsTicker\"},{\"attributes\":{\"coordinates\":null,\"group\":null,\"text\":\"PYPL cumulative returns\",\"text_color\":\"black\",\"text_font_size\":\"12pt\"},\"id\":\"1832\",\"type\":\"Title\"},{\"attributes\":{\"source\":{\"id\":\"1861\"}},\"id\":\"1868\",\"type\":\"CDSView\"},{\"attributes\":{\"children\":[{\"id\":\"1827\"},{\"id\":\"1831\"},{\"id\":\"1920\"}],\"margin\":[0,0,0,0],\"name\":\"Row02354\",\"tags\":[\"embedded\"]},\"id\":\"1826\",\"type\":\"Row\"},{\"attributes\":{},\"id\":\"1848\",\"type\":\"SaveTool\"},{\"attributes\":{},\"id\":\"1862\",\"type\":\"Selection\"},{\"attributes\":{\"months\":[0,2,4,6,8,10]},\"id\":\"1894\",\"type\":\"MonthsTicker\"},{\"attributes\":{},\"id\":\"1874\",\"type\":\"BasicTickFormatter\"},{\"attributes\":{},\"id\":\"1883\",\"type\":\"UnionRenderers\"},{\"attributes\":{\"margin\":[5,5,5,5],\"name\":\"HSpacer02358\",\"sizing_mode\":\"stretch_width\"},\"id\":\"1827\",\"type\":\"Spacer\"},{\"attributes\":{},\"id\":\"1849\",\"type\":\"PanTool\"},{\"attributes\":{\"months\":[0,4,8]},\"id\":\"1895\",\"type\":\"MonthsTicker\"},{\"attributes\":{},\"id\":\"1850\",\"type\":\"WheelZoomTool\"},{\"attributes\":{\"months\":[0,6]},\"id\":\"1896\",\"type\":\"MonthsTicker\"},{\"attributes\":{\"end\":4.091568228105903,\"reset_end\":4.091568228105903,\"reset_start\":0.3825661914460274,\"start\":0.3825661914460274,\"tags\":[[[\"daily_returns\",\"daily_returns\",null]]]},\"id\":\"1829\",\"type\":\"Range1d\"},{\"attributes\":{\"line_alpha\":0.1,\"line_color\":\"#30a2da\",\"line_width\":2,\"x\":{\"field\":\"time\"},\"y\":{\"field\":\"daily_returns\"}},\"id\":\"1865\",\"type\":\"Line\"},{\"attributes\":{\"overlay\":{\"id\":\"1853\"}},\"id\":\"1851\",\"type\":\"BoxZoomTool\"},{\"attributes\":{},\"id\":\"1897\",\"type\":\"YearsTicker\"},{\"attributes\":{},\"id\":\"1838\",\"type\":\"LinearScale\"}],\"root_ids\":[\"1826\"]},\"title\":\"Bokeh Application\",\"version\":\"2.4.1\"}};\n",
       "    var render_items = [{\"docid\":\"c5d78347-c8c5-4a83-8408-2d676f6a034e\",\"root_ids\":[\"1826\"],\"roots\":{\"1826\":\"12335aaf-1315-4dc6-a98b-1c08e6b488fd\"}}];\n",
       "    root.Bokeh.embed.embed_items_notebook(docs_json, render_items);\n",
       "  }\n",
       "  if (root.Bokeh !== undefined && root.Bokeh.Panel !== undefined) {\n",
       "    embed_document(root);\n",
       "  } else {\n",
       "    var attempts = 0;\n",
       "    var timer = setInterval(function(root) {\n",
       "      if (root.Bokeh !== undefined && root.Bokeh.Panel !== undefined) {\n",
       "        clearInterval(timer);\n",
       "        embed_document(root);\n",
       "      } else if (document.readyState == \"complete\") {\n",
       "        attempts++;\n",
       "        if (attempts > 200) {\n",
       "          clearInterval(timer);\n",
       "          console.log(\"Bokeh: ERROR: Unable to run BokehJS code because BokehJS library is missing\");\n",
       "        }\n",
       "      }\n",
       "    }, 25, root)\n",
       "  }\n",
       "})(window);</script>"
      ],
      "text/plain": [
       ":Curve   [time]   (daily_returns)"
      ]
     },
     "execution_count": 70,
     "metadata": {
      "application/vnd.holoviews_exec.v0+json": {
       "id": "1826"
      }
     },
     "output_type": "execute_result"
    }
   ],
   "source": [
    "# Create an interactive visaulization with hvplot to plot the cumulative returns for PYPL.\n",
    "cumulative_return_df = (1 + results_df).cumprod()\n",
    "\n",
    "cumulative_return_df.hvplot(\n",
    "    x=\"time\", \n",
    "    y=\"daily_returns\",\n",
    "    xlabel='Time',\n",
    "    ylabel='Cumulative Daily Returns',\n",
    "    title='PYPL cumulative returns'\n",
    ")"
   ]
  },
  {
   "cell_type": "markdown",
   "metadata": {},
   "source": [
    "## Optimize the SQL Queries\n",
    "\n",
    "For this part of the assignment, you’ll continue to analyze a single asset (PYPL) from the ETF. You’ll use advanced SQL queries to optimize the efficiency of accessing data from the database.\n",
    "\n",
    "Complete the following steps:\n",
    "\n",
    "1. Access the closing prices for PYPL that are greater than 200 by completing the following steps:\n",
    "\n",
    "1. Access the closing prices for PYPL that are greater than 200 by completing the following steps:\n",
    "\n",
    "    - Write a SQL `SELECT` statement to select the dates where the PYPL closing price was higher than 200.0.\n",
    "\n",
    "    - Select the “time” and “close” columns for those dates where the closing price was higher than 200.0.\n",
    "\n",
    "    - Using the SQL statement, read the data from the database into a Pandas DataFrame, and then review the resulting DataFrame.\n",
    "\n",
    "2. Find the top 10 daily returns for PYPL by completing the following steps:\n",
    "\n",
    "    -  Write a SQL statement to find the top 10 PYPL daily returns. Make sure to do the following:\n",
    "\n",
    "        * Use `SELECT` to select only the “time” and “daily_returns” columns.\n",
    "\n",
    "        * Use `ORDER` to sort the results in descending order by the “daily_returns” column.\n",
    "\n",
    "        * Use `LIMIT` to limit the results to the top 10 daily return values.\n",
    "\n",
    "    - Using the SQL statement, read the data from the database into a Pandas DataFrame, and then review the resulting DataFrame.\n"
   ]
  },
  {
   "cell_type": "markdown",
   "metadata": {},
   "source": [
    "### Step 1: Access the closing prices for PYPL that are greater than 200 by completing the following steps:\n",
    "\n",
    "    - Write a SQL `SELECT` statement to select the dates where the PYPL closing price was higher than 200.0.\n",
    "\n",
    "    - Select the “time” and “close” columns for those dates where the closing price was higher than 200.0.\n",
    "\n",
    "    - Using the SQL statement, read the data from the database into a Pandas DataFrame, and then review the resulting DataFrame.\n"
   ]
  },
  {
   "cell_type": "code",
   "execution_count": 71,
   "metadata": {
    "scrolled": true
   },
   "outputs": [
    {
     "data": {
      "text/html": [
       "<div>\n",
       "<style scoped>\n",
       "    .dataframe tbody tr th:only-of-type {\n",
       "        vertical-align: middle;\n",
       "    }\n",
       "\n",
       "    .dataframe tbody tr th {\n",
       "        vertical-align: top;\n",
       "    }\n",
       "\n",
       "    .dataframe thead th {\n",
       "        text-align: right;\n",
       "    }\n",
       "</style>\n",
       "<table border=\"1\" class=\"dataframe\">\n",
       "  <thead>\n",
       "    <tr style=\"text-align: right;\">\n",
       "      <th></th>\n",
       "      <th>time</th>\n",
       "      <th>close</th>\n",
       "    </tr>\n",
       "  </thead>\n",
       "  <tbody>\n",
       "    <tr>\n",
       "      <th>0</th>\n",
       "      <td>2020-08-05 00:00:00.000000</td>\n",
       "      <td>202.92</td>\n",
       "    </tr>\n",
       "    <tr>\n",
       "      <th>1</th>\n",
       "      <td>2020-08-06 00:00:00.000000</td>\n",
       "      <td>204.09</td>\n",
       "    </tr>\n",
       "    <tr>\n",
       "      <th>2</th>\n",
       "      <td>2020-08-25 00:00:00.000000</td>\n",
       "      <td>201.71</td>\n",
       "    </tr>\n",
       "    <tr>\n",
       "      <th>3</th>\n",
       "      <td>2020-08-26 00:00:00.000000</td>\n",
       "      <td>203.53</td>\n",
       "    </tr>\n",
       "    <tr>\n",
       "      <th>4</th>\n",
       "      <td>2020-08-27 00:00:00.000000</td>\n",
       "      <td>204.34</td>\n",
       "    </tr>\n",
       "  </tbody>\n",
       "</table>\n",
       "</div>"
      ],
      "text/plain": [
       "                         time   close\n",
       "0  2020-08-05 00:00:00.000000  202.92\n",
       "1  2020-08-06 00:00:00.000000  204.09\n",
       "2  2020-08-25 00:00:00.000000  201.71\n",
       "3  2020-08-26 00:00:00.000000  203.53\n",
       "4  2020-08-27 00:00:00.000000  204.34"
      ]
     },
     "metadata": {},
     "output_type": "display_data"
    },
    {
     "data": {
      "text/html": [
       "<div>\n",
       "<style scoped>\n",
       "    .dataframe tbody tr th:only-of-type {\n",
       "        vertical-align: middle;\n",
       "    }\n",
       "\n",
       "    .dataframe tbody tr th {\n",
       "        vertical-align: top;\n",
       "    }\n",
       "\n",
       "    .dataframe thead th {\n",
       "        text-align: right;\n",
       "    }\n",
       "</style>\n",
       "<table border=\"1\" class=\"dataframe\">\n",
       "  <thead>\n",
       "    <tr style=\"text-align: right;\">\n",
       "      <th></th>\n",
       "      <th>time</th>\n",
       "      <th>close</th>\n",
       "    </tr>\n",
       "  </thead>\n",
       "  <tbody>\n",
       "    <tr>\n",
       "      <th>27</th>\n",
       "      <td>2020-11-30 00:00:00.000000</td>\n",
       "      <td>214.200</td>\n",
       "    </tr>\n",
       "    <tr>\n",
       "      <th>28</th>\n",
       "      <td>2020-12-01 00:00:00.000000</td>\n",
       "      <td>216.520</td>\n",
       "    </tr>\n",
       "    <tr>\n",
       "      <th>29</th>\n",
       "      <td>2020-12-02 00:00:00.000000</td>\n",
       "      <td>212.660</td>\n",
       "    </tr>\n",
       "    <tr>\n",
       "      <th>30</th>\n",
       "      <td>2020-12-03 00:00:00.000000</td>\n",
       "      <td>214.680</td>\n",
       "    </tr>\n",
       "    <tr>\n",
       "      <th>31</th>\n",
       "      <td>2020-12-04 00:00:00.000000</td>\n",
       "      <td>217.235</td>\n",
       "    </tr>\n",
       "  </tbody>\n",
       "</table>\n",
       "</div>"
      ],
      "text/plain": [
       "                          time    close\n",
       "27  2020-11-30 00:00:00.000000  214.200\n",
       "28  2020-12-01 00:00:00.000000  216.520\n",
       "29  2020-12-02 00:00:00.000000  212.660\n",
       "30  2020-12-03 00:00:00.000000  214.680\n",
       "31  2020-12-04 00:00:00.000000  217.235"
      ]
     },
     "metadata": {},
     "output_type": "display_data"
    }
   ],
   "source": [
    "# Write a SQL SELECT statement to select the time and close columns \n",
    "# where the PYPL closing price was higher than 200.0.\n",
    "query = \"\"\"\n",
    "    SELECT time, close FROM PYPL WHERE close > 200.0\n",
    "\"\"\"\n",
    "\n",
    "\n",
    "# Using the query, read the data from the database into a Pandas DataFrame\n",
    "pypl_higher_than_200 = pd.read_sql_query(\n",
    "    sql=query,\n",
    "    con=engine\n",
    ")\n",
    "\n",
    "# Review the resulting DataFrame\n",
    "display(pypl_higher_than_200.head())\n",
    "display(pypl_higher_than_200.tail())"
   ]
  },
  {
   "cell_type": "markdown",
   "metadata": {},
   "source": [
    "### Step 2: Find the top 10 daily returns for PYPL by completing the following steps:\n",
    "\n",
    "    -  Write a SQL statement to find the top 10 PYPL daily returns. Make sure to do the following:\n",
    "\n",
    "        * Use `SELECT` to select only the “time” and “daily_returns” columns.\n",
    "\n",
    "        * Use `ORDER` to sort the results in descending order by the “daily_returns” column.\n",
    "\n",
    "        * Use `LIMIT` to limit the results to the top 10 daily return values.\n",
    "\n",
    "    - Using the SQL statement, read the data from the database into a Pandas DataFrame, and then review the resulting DataFrame.\n"
   ]
  },
  {
   "cell_type": "code",
   "execution_count": 72,
   "metadata": {},
   "outputs": [
    {
     "data": {
      "text/html": [
       "<div>\n",
       "<style scoped>\n",
       "    .dataframe tbody tr th:only-of-type {\n",
       "        vertical-align: middle;\n",
       "    }\n",
       "\n",
       "    .dataframe tbody tr th {\n",
       "        vertical-align: top;\n",
       "    }\n",
       "\n",
       "    .dataframe thead th {\n",
       "        text-align: right;\n",
       "    }\n",
       "</style>\n",
       "<table border=\"1\" class=\"dataframe\">\n",
       "  <thead>\n",
       "    <tr style=\"text-align: right;\">\n",
       "      <th></th>\n",
       "      <th>time</th>\n",
       "      <th>daily_returns</th>\n",
       "    </tr>\n",
       "  </thead>\n",
       "  <tbody>\n",
       "    <tr>\n",
       "      <th>0</th>\n",
       "      <td>2020-03-24 00:00:00.000000</td>\n",
       "      <td>0.140981</td>\n",
       "    </tr>\n",
       "    <tr>\n",
       "      <th>1</th>\n",
       "      <td>2020-05-07 00:00:00.000000</td>\n",
       "      <td>0.140318</td>\n",
       "    </tr>\n",
       "    <tr>\n",
       "      <th>2</th>\n",
       "      <td>2020-03-13 00:00:00.000000</td>\n",
       "      <td>0.138700</td>\n",
       "    </tr>\n",
       "    <tr>\n",
       "      <th>3</th>\n",
       "      <td>2020-04-06 00:00:00.000000</td>\n",
       "      <td>0.100877</td>\n",
       "    </tr>\n",
       "    <tr>\n",
       "      <th>4</th>\n",
       "      <td>2018-10-19 00:00:00.000000</td>\n",
       "      <td>0.093371</td>\n",
       "    </tr>\n",
       "    <tr>\n",
       "      <th>5</th>\n",
       "      <td>2019-10-24 00:00:00.000000</td>\n",
       "      <td>0.085912</td>\n",
       "    </tr>\n",
       "    <tr>\n",
       "      <th>6</th>\n",
       "      <td>2020-11-04 00:00:00.000000</td>\n",
       "      <td>0.080986</td>\n",
       "    </tr>\n",
       "    <tr>\n",
       "      <th>7</th>\n",
       "      <td>2020-03-10 00:00:00.000000</td>\n",
       "      <td>0.080863</td>\n",
       "    </tr>\n",
       "    <tr>\n",
       "      <th>8</th>\n",
       "      <td>2020-04-22 00:00:00.000000</td>\n",
       "      <td>0.075321</td>\n",
       "    </tr>\n",
       "    <tr>\n",
       "      <th>9</th>\n",
       "      <td>2018-12-26 00:00:00.000000</td>\n",
       "      <td>0.074656</td>\n",
       "    </tr>\n",
       "  </tbody>\n",
       "</table>\n",
       "</div>"
      ],
      "text/plain": [
       "                         time  daily_returns\n",
       "0  2020-03-24 00:00:00.000000       0.140981\n",
       "1  2020-05-07 00:00:00.000000       0.140318\n",
       "2  2020-03-13 00:00:00.000000       0.138700\n",
       "3  2020-04-06 00:00:00.000000       0.100877\n",
       "4  2018-10-19 00:00:00.000000       0.093371\n",
       "5  2019-10-24 00:00:00.000000       0.085912\n",
       "6  2020-11-04 00:00:00.000000       0.080986\n",
       "7  2020-03-10 00:00:00.000000       0.080863\n",
       "8  2020-04-22 00:00:00.000000       0.075321\n",
       "9  2018-12-26 00:00:00.000000       0.074656"
      ]
     },
     "metadata": {},
     "output_type": "display_data"
    }
   ],
   "source": [
    "# Write a SQL SELECT statement to select the time and daily_returns columns\n",
    "# Sort the results in descending order and return only the top 10 return values\n",
    "query = \"\"\"\n",
    "    SELECT time, daily_returns FROM PYPL ORDER BY daily_returns DESC LIMIT 10\n",
    "\"\"\"\n",
    "\n",
    "# Using the query, read the data from the database into a Pandas DataFrame\n",
    "pypl_top_10_returns = pd.read_sql_query(\n",
    "    sql=query,\n",
    "    con=engine\n",
    ")  \n",
    "\n",
    "# Review the resulting DataFrame\n",
    "display(pypl_top_10_returns)\n"
   ]
  },
  {
   "cell_type": "markdown",
   "metadata": {},
   "source": [
    "## Analyze the Fintech ETF Portfolio\n",
    "\n",
    "For this part of the assignment, you’ll build the entire ETF portfolio and then evaluate its performance. To do so, you’ll build the ETF portfolio by using SQL joins to combine all the data for each asset.\n",
    "\n",
    "Complete the following steps:\n",
    "\n",
    "1. Write a SQL query to join each table in the portfolio into a single DataFrame. To do so, complete the following steps:\n",
    "\n",
    "    - Use a SQL inner join to join each table on the “time” column. Access the “time” column in the `GDOT` table via the `GDOT.time` syntax. Access the “time” columns from the other tables via similar syntax.\n",
    "\n",
    "    - Using the SQL query, read the data from the database into a Pandas DataFrame. Review the resulting DataFrame.\n",
    "\n",
    "2. Create a DataFrame that averages the “daily_returns” columns for all four assets. Review the resulting DataFrame.\n",
    "\n",
    "    > **Hint** Assuming that this ETF contains equally weighted returns, you can average the returns for each asset to get the average returns of the portfolio. You can then use the average returns of the portfolio to calculate the annualized returns and the cumulative returns. For the calculation to get the average daily returns for the portfolio, use the following code:\n",
    "    >\n",
    "    > ```python\n",
    "    > etf_portfolio_returns = etf_portfolio['daily_returns'].mean(axis=1)\n",
    "    > ```\n",
    "    >\n",
    "    > You can use the average daily returns of the portfolio the same way that you used the daily returns of a single asset.\n",
    "\n",
    "3. Use the average daily returns in the `etf_portfolio_returns` DataFrame to calculate the annualized returns for the portfolio. Display the annualized return value of the ETF portfolio.\n",
    "\n",
    "> **Hint**  To calculate the annualized returns, multiply the mean of the `etf_portfolio_returns` values by 252.\n",
    ">\n",
    "> To convert the decimal values to percentages, multiply the results by 100.\n",
    "\n",
    "4. Use the average daily returns in the `etf_portfolio_returns` DataFrame to calculate the cumulative returns of the ETF portfolio.\n",
    "\n",
    "5. Using hvPlot, create an interactive line plot that visualizes the cumulative return values of the ETF portfolio. Reflect the “time” column of the DataFrame on the x-axis. Make sure that you professionally style and format your visualization to enhance its readability.\n"
   ]
  },
  {
   "cell_type": "markdown",
   "metadata": {},
   "source": [
    "### Step 1: Write a SQL query to join each table in the portfolio into a single DataFrame. To do so, complete the following steps:\n",
    "\n",
    "    - Use a SQL inner join to join each table on the “time” column. Access the “time” column in the `GDOT` table via the `GDOT.time` syntax. Access the “time” columns from the other tables via similar syntax.\n",
    "\n",
    "    - Using the SQL query, read the data from the database into a Pandas DataFrame. Review the resulting DataFrame."
   ]
  },
  {
   "cell_type": "code",
   "execution_count": 73,
   "metadata": {
    "scrolled": true
   },
   "outputs": [
    {
     "data": {
      "text/html": [
       "<div>\n",
       "<style scoped>\n",
       "    .dataframe tbody tr th:only-of-type {\n",
       "        vertical-align: middle;\n",
       "    }\n",
       "\n",
       "    .dataframe tbody tr th {\n",
       "        vertical-align: top;\n",
       "    }\n",
       "\n",
       "    .dataframe thead th {\n",
       "        text-align: right;\n",
       "    }\n",
       "</style>\n",
       "<table border=\"1\" class=\"dataframe\">\n",
       "  <thead>\n",
       "    <tr style=\"text-align: right;\">\n",
       "      <th></th>\n",
       "      <th>gdot_daily_returns</th>\n",
       "      <th>gs_daily_returns</th>\n",
       "      <th>pypl_daily_returns</th>\n",
       "      <th>sq_daily_returns</th>\n",
       "    </tr>\n",
       "    <tr>\n",
       "      <th>time</th>\n",
       "      <th></th>\n",
       "      <th></th>\n",
       "      <th></th>\n",
       "      <th></th>\n",
       "    </tr>\n",
       "  </thead>\n",
       "  <tbody>\n",
       "    <tr>\n",
       "      <th>2016-12-16</th>\n",
       "      <td>-0.023218</td>\n",
       "      <td>-0.016708</td>\n",
       "      <td>-0.005564</td>\n",
       "      <td>0.017339</td>\n",
       "    </tr>\n",
       "    <tr>\n",
       "      <th>2016-12-19</th>\n",
       "      <td>-0.007923</td>\n",
       "      <td>0.000795</td>\n",
       "      <td>0.003306</td>\n",
       "      <td>-0.001043</td>\n",
       "    </tr>\n",
       "    <tr>\n",
       "      <th>2016-12-20</th>\n",
       "      <td>0.001261</td>\n",
       "      <td>0.016602</td>\n",
       "      <td>0.007351</td>\n",
       "      <td>0.009053</td>\n",
       "    </tr>\n",
       "    <tr>\n",
       "      <th>2016-12-21</th>\n",
       "      <td>0.001679</td>\n",
       "      <td>-0.006911</td>\n",
       "      <td>0.008807</td>\n",
       "      <td>-0.007591</td>\n",
       "    </tr>\n",
       "    <tr>\n",
       "      <th>2016-12-22</th>\n",
       "      <td>0.006077</td>\n",
       "      <td>-0.005178</td>\n",
       "      <td>-0.010227</td>\n",
       "      <td>-0.023644</td>\n",
       "    </tr>\n",
       "  </tbody>\n",
       "</table>\n",
       "</div>"
      ],
      "text/plain": [
       "            gdot_daily_returns  gs_daily_returns  pypl_daily_returns  \\\n",
       "time                                                                   \n",
       "2016-12-16           -0.023218         -0.016708           -0.005564   \n",
       "2016-12-19           -0.007923          0.000795            0.003306   \n",
       "2016-12-20            0.001261          0.016602            0.007351   \n",
       "2016-12-21            0.001679         -0.006911            0.008807   \n",
       "2016-12-22            0.006077         -0.005178           -0.010227   \n",
       "\n",
       "            sq_daily_returns  \n",
       "time                          \n",
       "2016-12-16          0.017339  \n",
       "2016-12-19         -0.001043  \n",
       "2016-12-20          0.009053  \n",
       "2016-12-21         -0.007591  \n",
       "2016-12-22         -0.023644  "
      ]
     },
     "metadata": {},
     "output_type": "display_data"
    },
    {
     "data": {
      "text/html": [
       "<div>\n",
       "<style scoped>\n",
       "    .dataframe tbody tr th:only-of-type {\n",
       "        vertical-align: middle;\n",
       "    }\n",
       "\n",
       "    .dataframe tbody tr th {\n",
       "        vertical-align: top;\n",
       "    }\n",
       "\n",
       "    .dataframe thead th {\n",
       "        text-align: right;\n",
       "    }\n",
       "</style>\n",
       "<table border=\"1\" class=\"dataframe\">\n",
       "  <thead>\n",
       "    <tr style=\"text-align: right;\">\n",
       "      <th></th>\n",
       "      <th>gdot_daily_returns</th>\n",
       "      <th>gs_daily_returns</th>\n",
       "      <th>pypl_daily_returns</th>\n",
       "      <th>sq_daily_returns</th>\n",
       "    </tr>\n",
       "    <tr>\n",
       "      <th>time</th>\n",
       "      <th></th>\n",
       "      <th></th>\n",
       "      <th></th>\n",
       "      <th></th>\n",
       "    </tr>\n",
       "  </thead>\n",
       "  <tbody>\n",
       "    <tr>\n",
       "      <th>2020-11-30</th>\n",
       "      <td>-0.043750</td>\n",
       "      <td>-0.021266</td>\n",
       "      <td>0.013629</td>\n",
       "      <td>-0.007153</td>\n",
       "    </tr>\n",
       "    <tr>\n",
       "      <th>2020-12-01</th>\n",
       "      <td>0.004482</td>\n",
       "      <td>0.006549</td>\n",
       "      <td>0.010831</td>\n",
       "      <td>-0.037823</td>\n",
       "    </tr>\n",
       "    <tr>\n",
       "      <th>2020-12-02</th>\n",
       "      <td>-0.027328</td>\n",
       "      <td>0.024387</td>\n",
       "      <td>-0.017827</td>\n",
       "      <td>-0.004384</td>\n",
       "    </tr>\n",
       "    <tr>\n",
       "      <th>2020-12-03</th>\n",
       "      <td>0.027523</td>\n",
       "      <td>-0.008959</td>\n",
       "      <td>0.009499</td>\n",
       "      <td>0.016921</td>\n",
       "    </tr>\n",
       "    <tr>\n",
       "      <th>2020-12-04</th>\n",
       "      <td>0.001860</td>\n",
       "      <td>0.012520</td>\n",
       "      <td>0.011901</td>\n",
       "      <td>0.010151</td>\n",
       "    </tr>\n",
       "  </tbody>\n",
       "</table>\n",
       "</div>"
      ],
      "text/plain": [
       "            gdot_daily_returns  gs_daily_returns  pypl_daily_returns  \\\n",
       "time                                                                   \n",
       "2020-11-30           -0.043750         -0.021266            0.013629   \n",
       "2020-12-01            0.004482          0.006549            0.010831   \n",
       "2020-12-02           -0.027328          0.024387           -0.017827   \n",
       "2020-12-03            0.027523         -0.008959            0.009499   \n",
       "2020-12-04            0.001860          0.012520            0.011901   \n",
       "\n",
       "            sq_daily_returns  \n",
       "time                          \n",
       "2020-11-30         -0.007153  \n",
       "2020-12-01         -0.037823  \n",
       "2020-12-02         -0.004384  \n",
       "2020-12-03          0.016921  \n",
       "2020-12-04          0.010151  "
      ]
     },
     "metadata": {},
     "output_type": "display_data"
    }
   ],
   "source": [
    "# Wreate a SQL query to join each table in the portfolio into a single DataFrame \n",
    "# Use the time column from each table as the basis for the join\n",
    "query = \"\"\"\n",
    " SELECT * from(\n",
    "    select GDOT.time,\n",
    "            GDOT.daily_returns as gdot_daily_returns,\n",
    "            GS.daily_returns as gs_daily_returns,\n",
    "            PYPL.daily_returns as pypl_daily_returns,\n",
    "            SQ.daily_returns as sq_daily_returns\n",
    "    from GDOT\n",
    "        INNER JOIN GS\n",
    "            on GDOT.time = GS.time    \n",
    "        INNER JOIN PYPL\n",
    "            on GDOT.time = PYPL.time\n",
    "        INNER JOIN SQ\n",
    "            on GDOT.time = sq.time            \n",
    "   ) \n",
    "\n",
    "\"\"\"\n",
    "\n",
    "# Using the query, read the data from the database into a Pandas DataFrame\n",
    "etf_portfolio = pd.read_sql_query(\n",
    "    sql=query,\n",
    "    con=engine,\n",
    "    index_col='time',\n",
    "    parse_dates={'time': ''}\n",
    ") \n",
    "\n",
    "\n",
    "# Review the resulting DataFrame\n",
    "display(etf_portfolio.head())\n",
    "display(etf_portfolio.tail())"
   ]
  },
  {
   "cell_type": "markdown",
   "metadata": {},
   "source": [
    "### Step 2: Create a DataFrame that averages the “daily_returns” columns for all four assets. Review the resulting DataFrame."
   ]
  },
  {
   "cell_type": "code",
   "execution_count": 74,
   "metadata": {
    "scrolled": true
   },
   "outputs": [
    {
     "data": {
      "text/plain": [
       "time\n",
       "2016-12-16   -0.007038\n",
       "2016-12-19   -0.001216\n",
       "2016-12-20    0.008567\n",
       "2016-12-21   -0.001004\n",
       "2016-12-22   -0.008243\n",
       "                ...   \n",
       "2020-11-30   -0.014635\n",
       "2020-12-01   -0.003990\n",
       "2020-12-02   -0.006288\n",
       "2020-12-03    0.011246\n",
       "2020-12-04    0.009108\n",
       "Length: 999, dtype: float64"
      ]
     },
     "metadata": {},
     "output_type": "display_data"
    }
   ],
   "source": [
    "# Create a DataFrame that displays the mean value of the “daily_returns” columns for all four assets.\n",
    "etf_portfolio_returns =  etf_portfolio.mean(axis=1)\n",
    "\n",
    "# Review the resulting DataFrame\n",
    "display(etf_portfolio_returns)\n"
   ]
  },
  {
   "cell_type": "markdown",
   "metadata": {},
   "source": [
    "### Step 3: Use the average daily returns in the etf_portfolio_returns DataFrame to calculate the annualized returns for the portfolio. Display the annualized return value of the ETF portfolio."
   ]
  },
  {
   "cell_type": "code",
   "execution_count": 75,
   "metadata": {},
   "outputs": [
    {
     "name": "stdout",
     "output_type": "stream",
     "text": [
      " The annualized return for the portfolio is 43.83%\n"
     ]
    }
   ],
   "source": [
    "# Use the average daily returns provided by the etf_portfolio_returns DataFrame \n",
    "# to calculate the annualized return for the portfolio. \n",
    "annualized_etf_portfolio_returns = etf_portfolio_returns.mean() * 252 \n",
    "\n",
    "# Converting annualized return to a percentage value\n",
    "annualized_etf_portfolio_returns_pct = annualized_etf_portfolio_returns * 100\n",
    "\n",
    "# Display the annualized return value of the ETF portfolio.\n",
    "print(f\" The annualized return for the portfolio is {annualized_etf_portfolio_returns_pct:.2f}%\")\n"
   ]
  },
  {
   "cell_type": "markdown",
   "metadata": {},
   "source": [
    "### Step 4: Use the average daily returns in the `etf_portfolio_returns` DataFrame to calculate the cumulative returns of the ETF portfolio."
   ]
  },
  {
   "cell_type": "code",
   "execution_count": 76,
   "metadata": {},
   "outputs": [
    {
     "data": {
      "text/plain": [
       "time\n",
       "2016-12-16    0.992962\n",
       "2016-12-19    0.991755\n",
       "2016-12-20    1.000251\n",
       "2016-12-21    0.999246\n",
       "2016-12-22    0.991010\n",
       "                ...   \n",
       "2020-11-30    4.374534\n",
       "2020-12-01    4.357078\n",
       "2020-12-02    4.329679\n",
       "2020-12-03    4.378371\n",
       "2020-12-04    4.418250\n",
       "Length: 999, dtype: float64"
      ]
     },
     "execution_count": 76,
     "metadata": {},
     "output_type": "execute_result"
    }
   ],
   "source": [
    "# Use the average daily returns provided by the etf_portfolio_returns DataFrame \n",
    "# to calculate the cumulative returns\n",
    "etf_cumulative_returns = (1 + etf_portfolio_returns).cumprod()\n",
    "\n",
    "# Display the final cumulative return value\n",
    "etf_cumulative_returns\n"
   ]
  },
  {
   "cell_type": "markdown",
   "metadata": {},
   "source": [
    "### Step 5: Using hvPlot, create an interactive line plot that visualizes the cumulative return values of the ETF portfolio. Reflect the “time” column of the DataFrame on the x-axis. Make sure that you professionally style and format your visualization to enhance its readability."
   ]
  },
  {
   "cell_type": "code",
   "execution_count": 77,
   "metadata": {},
   "outputs": [
    {
     "data": {},
     "metadata": {},
     "output_type": "display_data"
    },
    {
     "data": {
      "application/vnd.holoviews_exec.v0+json": "",
      "text/html": [
       "<div id='2032'>\n",
       "\n",
       "\n",
       "\n",
       "\n",
       "\n",
       "  <div class=\"bk-root\" id=\"3fc460b5-168e-4f73-864f-b6d47ba2ddcd\" data-root-id=\"2032\"></div>\n",
       "</div>\n",
       "<script type=\"application/javascript\">(function(root) {\n",
       "  function embed_document(root) {\n",
       "    var docs_json = {\"d428151a-cb2f-4338-b7ab-0e523073cea5\":{\"defs\":[{\"extends\":null,\"module\":null,\"name\":\"ReactiveHTML1\",\"overrides\":[],\"properties\":[]},{\"extends\":null,\"module\":null,\"name\":\"FlexBox1\",\"overrides\":[],\"properties\":[{\"default\":\"flex-start\",\"kind\":null,\"name\":\"align_content\"},{\"default\":\"flex-start\",\"kind\":null,\"name\":\"align_items\"},{\"default\":\"row\",\"kind\":null,\"name\":\"flex_direction\"},{\"default\":\"wrap\",\"kind\":null,\"name\":\"flex_wrap\"},{\"default\":\"flex-start\",\"kind\":null,\"name\":\"justify_content\"}]},{\"extends\":null,\"module\":null,\"name\":\"TemplateActions1\",\"overrides\":[],\"properties\":[{\"default\":0,\"kind\":null,\"name\":\"open_modal\"},{\"default\":0,\"kind\":null,\"name\":\"close_modal\"}]},{\"extends\":null,\"module\":null,\"name\":\"MaterialTemplateActions1\",\"overrides\":[],\"properties\":[{\"default\":0,\"kind\":null,\"name\":\"open_modal\"},{\"default\":0,\"kind\":null,\"name\":\"close_modal\"}]}],\"roots\":{\"references\":[{\"attributes\":{\"margin\":[5,5,5,5],\"name\":\"HSpacer02535\",\"sizing_mode\":\"stretch_width\"},\"id\":\"2126\",\"type\":\"Spacer\"},{\"attributes\":{\"num_minor_ticks\":5,\"tickers\":[{\"id\":\"2092\"},{\"id\":\"2093\"},{\"id\":\"2094\"},{\"id\":\"2095\"},{\"id\":\"2096\"},{\"id\":\"2097\"},{\"id\":\"2098\"},{\"id\":\"2099\"},{\"id\":\"2100\"},{\"id\":\"2101\"},{\"id\":\"2102\"},{\"id\":\"2103\"}]},\"id\":\"2047\",\"type\":\"DatetimeTicker\"},{\"attributes\":{\"callback\":null,\"formatters\":{\"@{time}\":\"datetime\"},\"renderers\":[{\"id\":\"2073\"}],\"tags\":[\"hv_created\"],\"tooltips\":[[\"time\",\"@{time}{%F %T}\"],[\"0\",\"@{A_0}\"]]},\"id\":\"2036\",\"type\":\"HoverTool\"},{\"attributes\":{},\"id\":\"2051\",\"type\":\"BasicTicker\"},{\"attributes\":{\"tools\":[{\"id\":\"2036\"},{\"id\":\"2054\"},{\"id\":\"2055\"},{\"id\":\"2056\"},{\"id\":\"2057\"},{\"id\":\"2058\"}]},\"id\":\"2060\",\"type\":\"Toolbar\"},{\"attributes\":{\"line_color\":\"#30a2da\",\"line_width\":2,\"x\":{\"field\":\"time\"},\"y\":{\"field\":\"0\"}},\"id\":\"2070\",\"type\":\"Line\"},{\"attributes\":{\"end\":1607040000000.0,\"reset_end\":1607040000000.0,\"reset_start\":1481846400000.0,\"start\":1481846400000.0,\"tags\":[[[\"time\",\"time\",null]]]},\"id\":\"2034\",\"type\":\"Range1d\"},{\"attributes\":{},\"id\":\"2077\",\"type\":\"DatetimeTickFormatter\"},{\"attributes\":{\"axis\":{\"id\":\"2046\"},\"coordinates\":null,\"grid_line_color\":null,\"group\":null,\"ticker\":null},\"id\":\"2049\",\"type\":\"Grid\"},{\"attributes\":{\"mantissas\":[1,2,5],\"max_interval\":500.0,\"num_minor_ticks\":0},\"id\":\"2092\",\"type\":\"AdaptiveTicker\"},{\"attributes\":{},\"id\":\"2089\",\"type\":\"UnionRenderers\"},{\"attributes\":{\"base\":60,\"mantissas\":[1,2,5,10,15,20,30],\"max_interval\":1800000.0,\"min_interval\":1000.0,\"num_minor_ticks\":0},\"id\":\"2093\",\"type\":\"AdaptiveTicker\"},{\"attributes\":{\"axis_label\":\"time\",\"coordinates\":null,\"formatter\":{\"id\":\"2077\"},\"group\":null,\"major_label_policy\":{\"id\":\"2078\"},\"ticker\":{\"id\":\"2047\"}},\"id\":\"2046\",\"type\":\"DatetimeAxis\"},{\"attributes\":{\"bottom_units\":\"screen\",\"coordinates\":null,\"fill_alpha\":0.5,\"fill_color\":\"lightgrey\",\"group\":null,\"left_units\":\"screen\",\"level\":\"overlay\",\"line_alpha\":1.0,\"line_color\":\"black\",\"line_dash\":[4,4],\"line_width\":2,\"right_units\":\"screen\",\"syncable\":false,\"top_units\":\"screen\"},\"id\":\"2059\",\"type\":\"BoxAnnotation\"},{\"attributes\":{\"axis_label\":\"Cumulative Returns\",\"coordinates\":null,\"formatter\":{\"id\":\"2080\"},\"group\":null,\"major_label_policy\":{\"id\":\"2081\"},\"ticker\":{\"id\":\"2051\"}},\"id\":\"2050\",\"type\":\"LinearAxis\"},{\"attributes\":{\"end\":4.832565152737183,\"reset_end\":4.832565152737183,\"reset_start\":0.6268820612308144,\"start\":0.6268820612308144,\"tags\":[[[\"0\",\"0\",null]]]},\"id\":\"2035\",\"type\":\"Range1d\"},{\"attributes\":{\"days\":[1,8,15,22]},\"id\":\"2097\",\"type\":\"DaysTicker\"},{\"attributes\":{\"margin\":[5,5,5,5],\"name\":\"HSpacer02534\",\"sizing_mode\":\"stretch_width\"},\"id\":\"2033\",\"type\":\"Spacer\"},{\"attributes\":{\"line_color\":\"#30a2da\",\"line_width\":2,\"x\":{\"field\":\"time\"},\"y\":{\"field\":\"0\"}},\"id\":\"2075\",\"type\":\"Line\"},{\"attributes\":{\"days\":[1,15]},\"id\":\"2098\",\"type\":\"DaysTicker\"},{\"attributes\":{\"days\":[1,4,7,10,13,16,19,22,25,28]},\"id\":\"2096\",\"type\":\"DaysTicker\"},{\"attributes\":{\"source\":{\"id\":\"2067\"}},\"id\":\"2074\",\"type\":\"CDSView\"},{\"attributes\":{\"base\":24,\"mantissas\":[1,2,4,6,8,12],\"max_interval\":43200000.0,\"min_interval\":3600000.0,\"num_minor_ticks\":0},\"id\":\"2094\",\"type\":\"AdaptiveTicker\"},{\"attributes\":{\"months\":[0,1,2,3,4,5,6,7,8,9,10,11]},\"id\":\"2099\",\"type\":\"MonthsTicker\"},{\"attributes\":{\"data\":{\"0\":{\"__ndarray__\":\"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\",\"dtype\":\"float64\",\"order\":\"little\",\"shape\":[999]},\"A_0\":{\"__ndarray__\":\"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\",\"dtype\":\"float64\",\"order\":\"little\",\"shape\":[999]},\"time\":{\"__ndarray__\":\"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\",\"dtype\":\"float64\",\"order\":\"little\",\"shape\":[999]}},\"selected\":{\"id\":\"2068\"},\"selection_policy\":{\"id\":\"2089\"}},\"id\":\"2067\",\"type\":\"ColumnDataSource\"},{\"attributes\":{},\"id\":\"2044\",\"type\":\"LinearScale\"},{\"attributes\":{\"months\":[0,2,4,6,8,10]},\"id\":\"2100\",\"type\":\"MonthsTicker\"},{\"attributes\":{\"coordinates\":null,\"group\":null,\"text\":\"Cumulative returns of the ETF Portfolio\",\"text_color\":\"black\",\"text_font_size\":\"12pt\"},\"id\":\"2038\",\"type\":\"Title\"},{\"attributes\":{},\"id\":\"2054\",\"type\":\"SaveTool\"},{\"attributes\":{\"months\":[0,4,8]},\"id\":\"2101\",\"type\":\"MonthsTicker\"},{\"attributes\":{\"line_alpha\":0.1,\"line_color\":\"#30a2da\",\"line_width\":2,\"x\":{\"field\":\"time\"},\"y\":{\"field\":\"0\"}},\"id\":\"2071\",\"type\":\"Line\"},{\"attributes\":{\"children\":[{\"id\":\"2033\"},{\"id\":\"2037\"},{\"id\":\"2126\"}],\"margin\":[0,0,0,0],\"name\":\"Row02530\",\"tags\":[\"embedded\"]},\"id\":\"2032\",\"type\":\"Row\"},{\"attributes\":{},\"id\":\"2080\",\"type\":\"BasicTickFormatter\"},{\"attributes\":{\"months\":[0,6]},\"id\":\"2102\",\"type\":\"MonthsTicker\"},{\"attributes\":{},\"id\":\"2042\",\"type\":\"LinearScale\"},{\"attributes\":{\"overlay\":{\"id\":\"2059\"}},\"id\":\"2057\",\"type\":\"BoxZoomTool\"},{\"attributes\":{},\"id\":\"2078\",\"type\":\"AllLabels\"},{\"attributes\":{\"line_alpha\":0.2,\"line_color\":\"#30a2da\",\"line_width\":2,\"x\":{\"field\":\"time\"},\"y\":{\"field\":\"0\"}},\"id\":\"2072\",\"type\":\"Line\"},{\"attributes\":{},\"id\":\"2056\",\"type\":\"WheelZoomTool\"},{\"attributes\":{},\"id\":\"2081\",\"type\":\"AllLabels\"},{\"attributes\":{},\"id\":\"2103\",\"type\":\"YearsTicker\"},{\"attributes\":{},\"id\":\"2058\",\"type\":\"ResetTool\"},{\"attributes\":{\"below\":[{\"id\":\"2046\"}],\"center\":[{\"id\":\"2049\"},{\"id\":\"2053\"}],\"height\":300,\"left\":[{\"id\":\"2050\"}],\"margin\":[5,5,5,5],\"min_border_bottom\":10,\"min_border_left\":10,\"min_border_right\":10,\"min_border_top\":10,\"renderers\":[{\"id\":\"2073\"}],\"sizing_mode\":\"fixed\",\"title\":{\"id\":\"2038\"},\"toolbar\":{\"id\":\"2060\"},\"width\":700,\"x_range\":{\"id\":\"2034\"},\"x_scale\":{\"id\":\"2042\"},\"y_range\":{\"id\":\"2035\"},\"y_scale\":{\"id\":\"2044\"}},\"id\":\"2037\",\"subtype\":\"Figure\",\"type\":\"Plot\"},{\"attributes\":{\"coordinates\":null,\"data_source\":{\"id\":\"2067\"},\"glyph\":{\"id\":\"2070\"},\"group\":null,\"hover_glyph\":null,\"muted_glyph\":{\"id\":\"2072\"},\"nonselection_glyph\":{\"id\":\"2071\"},\"selection_glyph\":{\"id\":\"2075\"},\"view\":{\"id\":\"2074\"}},\"id\":\"2073\",\"type\":\"GlyphRenderer\"},{\"attributes\":{},\"id\":\"2068\",\"type\":\"Selection\"},{\"attributes\":{},\"id\":\"2055\",\"type\":\"PanTool\"},{\"attributes\":{\"days\":[1,2,3,4,5,6,7,8,9,10,11,12,13,14,15,16,17,18,19,20,21,22,23,24,25,26,27,28,29,30,31]},\"id\":\"2095\",\"type\":\"DaysTicker\"},{\"attributes\":{\"axis\":{\"id\":\"2050\"},\"coordinates\":null,\"dimension\":1,\"grid_line_color\":null,\"group\":null,\"ticker\":null},\"id\":\"2053\",\"type\":\"Grid\"}],\"root_ids\":[\"2032\"]},\"title\":\"Bokeh Application\",\"version\":\"2.4.1\"}};\n",
       "    var render_items = [{\"docid\":\"d428151a-cb2f-4338-b7ab-0e523073cea5\",\"root_ids\":[\"2032\"],\"roots\":{\"2032\":\"3fc460b5-168e-4f73-864f-b6d47ba2ddcd\"}}];\n",
       "    root.Bokeh.embed.embed_items_notebook(docs_json, render_items);\n",
       "  }\n",
       "  if (root.Bokeh !== undefined && root.Bokeh.Panel !== undefined) {\n",
       "    embed_document(root);\n",
       "  } else {\n",
       "    var attempts = 0;\n",
       "    var timer = setInterval(function(root) {\n",
       "      if (root.Bokeh !== undefined && root.Bokeh.Panel !== undefined) {\n",
       "        clearInterval(timer);\n",
       "        embed_document(root);\n",
       "      } else if (document.readyState == \"complete\") {\n",
       "        attempts++;\n",
       "        if (attempts > 200) {\n",
       "          clearInterval(timer);\n",
       "          console.log(\"Bokeh: ERROR: Unable to run BokehJS code because BokehJS library is missing\");\n",
       "        }\n",
       "      }\n",
       "    }, 25, root)\n",
       "  }\n",
       "})(window);</script>"
      ],
      "text/plain": [
       ":Curve   [time]   (0)"
      ]
     },
     "execution_count": 77,
     "metadata": {
      "application/vnd.holoviews_exec.v0+json": {
       "id": "2032"
      }
     },
     "output_type": "execute_result"
    }
   ],
   "source": [
    "# Using hvplot, create an interactive line plot that visualizes the ETF portfolios cumulative return values.\n",
    "etf_cumulative_returns.hvplot(\n",
    "    x='time',\n",
    "    title='Cumulative returns of the ETF Portfolio',\n",
    "    ylabel='Cumulative Returns')\n"
   ]
  },
  {
   "cell_type": "code",
   "execution_count": null,
   "metadata": {},
   "outputs": [],
   "source": []
  }
 ],
 "metadata": {
  "kernelspec": {
   "display_name": "dev",
   "language": "python",
   "name": "dev"
  },
  "language_info": {
   "codemirror_mode": {
    "name": "ipython",
    "version": 3
   },
   "file_extension": ".py",
   "mimetype": "text/x-python",
   "name": "python",
   "nbconvert_exporter": "python",
   "pygments_lexer": "ipython3",
   "version": "3.7.10"
  }
 },
 "nbformat": 4,
 "nbformat_minor": 4
}
